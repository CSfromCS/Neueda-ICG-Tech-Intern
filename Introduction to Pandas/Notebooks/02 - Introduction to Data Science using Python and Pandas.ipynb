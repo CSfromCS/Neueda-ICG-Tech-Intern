{
 "cells": [
  {
   "cell_type": "markdown",
   "metadata": {},
   "source": [
    "# Introduction to Data Science using Python and Pandas\n",
    "\n",
    "This notebook is a quick tour of some of the tools you will be using to perform data analysis on Financial Markets Data using the python suite of technologies.\n",
    "\n",
    "At the end of this notebook you will have a solid grounding in the following areas:\n",
    "\n",
    "- **Jupyter Notebook** - How to use the Jupyter notebook to perform Data Analysis using Python.\n",
    "<br><br>\n",
    "- **Data Analysis** - A sense of the type of analysis you can reasonably expect to be able to perform using this technology.\n",
    "<br><br>\n",
    "- **Python Packages** - pandas, numpy and matplotlib.pyplot and what they are used for.\n",
    "<br><br>\n",
    "\n",
    "**Note That:**\n",
    "- This is a quick tour of data analysis using python.\n",
    "\n",
    "- There will be a lot of commands and character sequences that you do not understand.\n",
    "\n",
    "- Do not **panic** or **worry** about this, we will be explaining all of these in due course.\n",
    "\n",
    "- The important part of this introductory session is for you to get a sense of what you can do with this technology.\n",
    "\n",
    "- We will cover the \"nitty gritty\" in later labs and notebooks"
   ]
  },
  {
   "cell_type": "markdown",
   "metadata": {},
   "source": [
    "# Packages\n",
    "\n",
    "- In order to perform any analysis on data, you must load the correct python package into your notebook.\n",
    "<br><br>\n",
    "- A package (sometimes called a library) is essentially a set of python commands, functions and methods that you can type into your notebook to perform some work and get some results.\n",
    "<br><br>\n",
    "- You will use different python packages to perform different types of work.\n",
    "<br><br>\n",
    "- For example, producing graphs and charts requires a different package (set of commands) than performing heavy duty mathematical computation.\n",
    "<br><br>\n",
    "- The main package we will use in this course is the package that allows us to work with tables of data, very similar to using a spreadsheet such as Microsoft Excel, Google Charts or Apple Numbers.\n",
    "<br><br>\n",
    "- This python library is called **pandas**.\n",
    "<br><br>\n",
    "- Use the **import** statement to load this package into your notebook"
   ]
  },
  {
   "cell_type": "code",
   "execution_count": 1,
   "metadata": {
    "tags": []
   },
   "outputs": [],
   "source": [
    "import pandas as pd"
   ]
  },
  {
   "cell_type": "markdown",
   "metadata": {},
   "source": [
    "# python\n",
    "\n",
    "** Congratulations!!!!! ** -- You have just executed your first line of python code. "
   ]
  },
  {
   "cell_type": "markdown",
   "metadata": {},
   "source": [
    "# DataFrames\n",
    "\n",
    "- A DataFrame is a rectangular table of data.\n",
    "- Contains rows and columns\n",
    "- Columns have headings\n",
    "- Rows have an index\n"
   ]
  },
  {
   "cell_type": "markdown",
   "metadata": {},
   "source": [
    "## DataFrames - Creating a DataFrame from a csv file\n",
    "\n",
    "There are quite a few ways to create a DataFrame.\n",
    "<br><br>\n",
    "Load in the data in the worksheet sp500 form the spreadsheet sample_data.xls"
   ]
  },
  {
   "cell_type": "code",
   "execution_count": 2,
   "metadata": {
    "tags": []
   },
   "outputs": [
    {
     "data": {
      "text/html": [
       "<div>\n",
       "<style scoped>\n",
       "    .dataframe tbody tr th:only-of-type {\n",
       "        vertical-align: middle;\n",
       "    }\n",
       "\n",
       "    .dataframe tbody tr th {\n",
       "        vertical-align: top;\n",
       "    }\n",
       "\n",
       "    .dataframe thead th {\n",
       "        text-align: right;\n",
       "    }\n",
       "</style>\n",
       "<table border=\"1\" class=\"dataframe\">\n",
       "  <thead>\n",
       "    <tr style=\"text-align: right;\">\n",
       "      <th></th>\n",
       "      <th>Name</th>\n",
       "      <th>Filings</th>\n",
       "      <th>Sector</th>\n",
       "      <th>Sub-Sector</th>\n",
       "      <th>HQ</th>\n",
       "      <th>Date first added</th>\n",
       "      <th>CIK</th>\n",
       "      <th>Founded</th>\n",
       "      <th>Price</th>\n",
       "      <th>52 Week High</th>\n",
       "      <th>52 Week Low</th>\n",
       "    </tr>\n",
       "    <tr>\n",
       "      <th>Symbol</th>\n",
       "      <th></th>\n",
       "      <th></th>\n",
       "      <th></th>\n",
       "      <th></th>\n",
       "      <th></th>\n",
       "      <th></th>\n",
       "      <th></th>\n",
       "      <th></th>\n",
       "      <th></th>\n",
       "      <th></th>\n",
       "      <th></th>\n",
       "    </tr>\n",
       "  </thead>\n",
       "  <tbody>\n",
       "    <tr>\n",
       "      <th>MMM</th>\n",
       "      <td>3M</td>\n",
       "      <td>reports</td>\n",
       "      <td>Industrials</td>\n",
       "      <td>Industrial Conglomerates</td>\n",
       "      <td>Saint Paul, Minnesota</td>\n",
       "      <td>1976-08-09</td>\n",
       "      <td>66740</td>\n",
       "      <td>1902</td>\n",
       "      <td>181.49</td>\n",
       "      <td>204.49</td>\n",
       "      <td>153.53</td>\n",
       "    </tr>\n",
       "    <tr>\n",
       "      <th>ABT</th>\n",
       "      <td>Abbott Laboratories</td>\n",
       "      <td>reports</td>\n",
       "      <td>Health Care</td>\n",
       "      <td>Health Care Equipment</td>\n",
       "      <td>North Chicago, Illinois</td>\n",
       "      <td>1964-03-31</td>\n",
       "      <td>1800</td>\n",
       "      <td>1888</td>\n",
       "      <td>126.79</td>\n",
       "      <td>129.06</td>\n",
       "      <td>99.44</td>\n",
       "    </tr>\n",
       "    <tr>\n",
       "      <th>ABBV</th>\n",
       "      <td>AbbVie</td>\n",
       "      <td>reports</td>\n",
       "      <td>Health Care</td>\n",
       "      <td>Pharmaceuticals</td>\n",
       "      <td>North Chicago, Illinois</td>\n",
       "      <td>2012-12-31</td>\n",
       "      <td>1551152</td>\n",
       "      <td>2013 (1888)</td>\n",
       "      <td>107.73</td>\n",
       "      <td>120.78</td>\n",
       "      <td>77.74</td>\n",
       "    </tr>\n",
       "    <tr>\n",
       "      <th>ABMD</th>\n",
       "      <td>Abiomed</td>\n",
       "      <td>reports</td>\n",
       "      <td>Health Care</td>\n",
       "      <td>Health Care Equipment</td>\n",
       "      <td>Danvers, Massachusetts</td>\n",
       "      <td>2018-05-31</td>\n",
       "      <td>815094</td>\n",
       "      <td>1981</td>\n",
       "      <td>355.00</td>\n",
       "      <td>376.20</td>\n",
       "      <td>251.88</td>\n",
       "    </tr>\n",
       "    <tr>\n",
       "      <th>ACN</th>\n",
       "      <td>Accenture</td>\n",
       "      <td>reports</td>\n",
       "      <td>Information Technology</td>\n",
       "      <td>IT Consulting &amp; Other Services</td>\n",
       "      <td>Dublin, Ireland</td>\n",
       "      <td>2011-07-06</td>\n",
       "      <td>1467373</td>\n",
       "      <td>1989</td>\n",
       "      <td>335.40</td>\n",
       "      <td>344.43</td>\n",
       "      <td>211.60</td>\n",
       "    </tr>\n",
       "    <tr>\n",
       "      <th>...</th>\n",
       "      <td>...</td>\n",
       "      <td>...</td>\n",
       "      <td>...</td>\n",
       "      <td>...</td>\n",
       "      <td>...</td>\n",
       "      <td>...</td>\n",
       "      <td>...</td>\n",
       "      <td>...</td>\n",
       "      <td>...</td>\n",
       "      <td>...</td>\n",
       "      <td>...</td>\n",
       "    </tr>\n",
       "    <tr>\n",
       "      <th>YUM</th>\n",
       "      <td>Yum! Brands</td>\n",
       "      <td>reports</td>\n",
       "      <td>Consumer Discretionary</td>\n",
       "      <td>Restaurants</td>\n",
       "      <td>Louisville, Kentucky</td>\n",
       "      <td>1997-10-06</td>\n",
       "      <td>1041061</td>\n",
       "      <td>1997</td>\n",
       "      <td>130.92</td>\n",
       "      <td>134.62</td>\n",
       "      <td>87.82</td>\n",
       "    </tr>\n",
       "    <tr>\n",
       "      <th>ZBRA</th>\n",
       "      <td>Zebra Technologies</td>\n",
       "      <td>reports</td>\n",
       "      <td>Information Technology</td>\n",
       "      <td>Electronic Equipment &amp; Instruments</td>\n",
       "      <td>Lincolnshire, Illinois</td>\n",
       "      <td>2019-12-23</td>\n",
       "      <td>877212</td>\n",
       "      <td>1969</td>\n",
       "      <td>590.60</td>\n",
       "      <td>590.60</td>\n",
       "      <td>248.73</td>\n",
       "    </tr>\n",
       "    <tr>\n",
       "      <th>ZBH</th>\n",
       "      <td>Zimmer Biomet</td>\n",
       "      <td>reports</td>\n",
       "      <td>Health Care</td>\n",
       "      <td>Health Care Equipment</td>\n",
       "      <td>Warsaw, Indiana</td>\n",
       "      <td>2001-08-07</td>\n",
       "      <td>1136869</td>\n",
       "      <td>1927</td>\n",
       "      <td>146.74</td>\n",
       "      <td>178.35</td>\n",
       "      <td>131.28</td>\n",
       "    </tr>\n",
       "    <tr>\n",
       "      <th>ZION</th>\n",
       "      <td>Zions Bancorp</td>\n",
       "      <td>reports</td>\n",
       "      <td>Financials</td>\n",
       "      <td>Regional Banks</td>\n",
       "      <td>Salt Lake City, Utah</td>\n",
       "      <td>2001-06-22</td>\n",
       "      <td>109380</td>\n",
       "      <td>1873</td>\n",
       "      <td>57.12</td>\n",
       "      <td>60.27</td>\n",
       "      <td>27.63</td>\n",
       "    </tr>\n",
       "    <tr>\n",
       "      <th>ZTS</th>\n",
       "      <td>Zoetis</td>\n",
       "      <td>reports</td>\n",
       "      <td>Health Care</td>\n",
       "      <td>Pharmaceuticals</td>\n",
       "      <td>Parsippany, New Jersey</td>\n",
       "      <td>2013-06-21</td>\n",
       "      <td>1555280</td>\n",
       "      <td>1952</td>\n",
       "      <td>209.69</td>\n",
       "      <td>209.69</td>\n",
       "      <td>143.60</td>\n",
       "    </tr>\n",
       "  </tbody>\n",
       "</table>\n",
       "<p>503 rows × 11 columns</p>\n",
       "</div>"
      ],
      "text/plain": [
       "                       Name  Filings                  Sector  \\\n",
       "Symbol                                                         \n",
       "MMM                      3M  reports             Industrials   \n",
       "ABT     Abbott Laboratories  reports             Health Care   \n",
       "ABBV                 AbbVie  reports             Health Care   \n",
       "ABMD                Abiomed  reports             Health Care   \n",
       "ACN               Accenture  reports  Information Technology   \n",
       "...                     ...      ...                     ...   \n",
       "YUM             Yum! Brands  reports  Consumer Discretionary   \n",
       "ZBRA     Zebra Technologies  reports  Information Technology   \n",
       "ZBH           Zimmer Biomet  reports             Health Care   \n",
       "ZION          Zions Bancorp  reports              Financials   \n",
       "ZTS                  Zoetis  reports             Health Care   \n",
       "\n",
       "                                Sub-Sector                       HQ  \\\n",
       "Symbol                                                                \n",
       "MMM               Industrial Conglomerates    Saint Paul, Minnesota   \n",
       "ABT                  Health Care Equipment  North Chicago, Illinois   \n",
       "ABBV                       Pharmaceuticals  North Chicago, Illinois   \n",
       "ABMD                 Health Care Equipment   Danvers, Massachusetts   \n",
       "ACN         IT Consulting & Other Services          Dublin, Ireland   \n",
       "...                                    ...                      ...   \n",
       "YUM                            Restaurants     Louisville, Kentucky   \n",
       "ZBRA    Electronic Equipment & Instruments   Lincolnshire, Illinois   \n",
       "ZBH                  Health Care Equipment          Warsaw, Indiana   \n",
       "ZION                        Regional Banks     Salt Lake City, Utah   \n",
       "ZTS                        Pharmaceuticals   Parsippany, New Jersey   \n",
       "\n",
       "       Date first added      CIK      Founded   Price  52 Week High  \\\n",
       "Symbol                                                                \n",
       "MMM          1976-08-09    66740         1902  181.49        204.49   \n",
       "ABT          1964-03-31     1800         1888  126.79        129.06   \n",
       "ABBV         2012-12-31  1551152  2013 (1888)  107.73        120.78   \n",
       "ABMD         2018-05-31   815094         1981  355.00        376.20   \n",
       "ACN          2011-07-06  1467373         1989  335.40        344.43   \n",
       "...                 ...      ...          ...     ...           ...   \n",
       "YUM          1997-10-06  1041061         1997  130.92        134.62   \n",
       "ZBRA         2019-12-23   877212         1969  590.60        590.60   \n",
       "ZBH          2001-08-07  1136869         1927  146.74        178.35   \n",
       "ZION         2001-06-22   109380         1873   57.12         60.27   \n",
       "ZTS          2013-06-21  1555280         1952  209.69        209.69   \n",
       "\n",
       "        52 Week Low  \n",
       "Symbol               \n",
       "MMM          153.53  \n",
       "ABT           99.44  \n",
       "ABBV          77.74  \n",
       "ABMD         251.88  \n",
       "ACN          211.60  \n",
       "...             ...  \n",
       "YUM           87.82  \n",
       "ZBRA         248.73  \n",
       "ZBH          131.28  \n",
       "ZION          27.63  \n",
       "ZTS          143.60  \n",
       "\n",
       "[503 rows x 11 columns]"
      ]
     },
     "execution_count": 2,
     "metadata": {},
     "output_type": "execute_result"
    }
   ],
   "source": [
    "df = pd.read_excel(io='../Data/sample_data.xlsx', sheet_name='SP500', index_col='Symbol')\n",
    "\n",
    "df"
   ]
  },
  {
   "cell_type": "markdown",
   "metadata": {},
   "source": [
    "## DataFrames - Executing Functions / Methods\n",
    "\n",
    "- There are literally hundreds of methods you can execute on a DataFrame\n",
    "- Try the following\n",
    "<br><br>\n",
    "df.head - the first 5 rows\n",
    "<br>\n",
    "df.head(n) - the first n rows\n",
    "<br>\n",
    "df.tail - the last 5 rows\n",
    "<br>\n",
    "df.tail(n) the last n rows\n",
    "<br>"
   ]
  },
  {
   "cell_type": "code",
   "execution_count": 3,
   "metadata": {
    "scrolled": true,
    "tags": []
   },
   "outputs": [
    {
     "data": {
      "text/html": [
       "<div>\n",
       "<style scoped>\n",
       "    .dataframe tbody tr th:only-of-type {\n",
       "        vertical-align: middle;\n",
       "    }\n",
       "\n",
       "    .dataframe tbody tr th {\n",
       "        vertical-align: top;\n",
       "    }\n",
       "\n",
       "    .dataframe thead th {\n",
       "        text-align: right;\n",
       "    }\n",
       "</style>\n",
       "<table border=\"1\" class=\"dataframe\">\n",
       "  <thead>\n",
       "    <tr style=\"text-align: right;\">\n",
       "      <th></th>\n",
       "      <th>Name</th>\n",
       "      <th>Filings</th>\n",
       "      <th>Sector</th>\n",
       "      <th>Sub-Sector</th>\n",
       "      <th>HQ</th>\n",
       "      <th>Date first added</th>\n",
       "      <th>CIK</th>\n",
       "      <th>Founded</th>\n",
       "      <th>Price</th>\n",
       "      <th>52 Week High</th>\n",
       "      <th>52 Week Low</th>\n",
       "    </tr>\n",
       "    <tr>\n",
       "      <th>Symbol</th>\n",
       "      <th></th>\n",
       "      <th></th>\n",
       "      <th></th>\n",
       "      <th></th>\n",
       "      <th></th>\n",
       "      <th></th>\n",
       "      <th></th>\n",
       "      <th></th>\n",
       "      <th></th>\n",
       "      <th></th>\n",
       "      <th></th>\n",
       "    </tr>\n",
       "  </thead>\n",
       "  <tbody>\n",
       "    <tr>\n",
       "      <th>XEL</th>\n",
       "      <td>Xcel Energy</td>\n",
       "      <td>reports</td>\n",
       "      <td>Utilities</td>\n",
       "      <td>Multi-Utilities</td>\n",
       "      <td>Minneapolis, Minnesota</td>\n",
       "      <td>1957-03-04</td>\n",
       "      <td>72903</td>\n",
       "      <td>1909</td>\n",
       "      <td>69.80</td>\n",
       "      <td>73.18</td>\n",
       "      <td>57.22</td>\n",
       "    </tr>\n",
       "    <tr>\n",
       "      <th>XLNX</th>\n",
       "      <td>Xilinx</td>\n",
       "      <td>reports</td>\n",
       "      <td>Information Technology</td>\n",
       "      <td>Semiconductors</td>\n",
       "      <td>San Jose, California</td>\n",
       "      <td>1999-11-08</td>\n",
       "      <td>743988</td>\n",
       "      <td>1984</td>\n",
       "      <td>155.96</td>\n",
       "      <td>156.27</td>\n",
       "      <td>97.01</td>\n",
       "    </tr>\n",
       "    <tr>\n",
       "      <th>XYL</th>\n",
       "      <td>Xylem</td>\n",
       "      <td>reports</td>\n",
       "      <td>Industrials</td>\n",
       "      <td>Industrial Machinery</td>\n",
       "      <td>White Plains, New York</td>\n",
       "      <td>2011-11-01</td>\n",
       "      <td>1524472</td>\n",
       "      <td>2011</td>\n",
       "      <td>137.25</td>\n",
       "      <td>138.03</td>\n",
       "      <td>81.37</td>\n",
       "    </tr>\n",
       "    <tr>\n",
       "      <th>YUM</th>\n",
       "      <td>Yum! Brands</td>\n",
       "      <td>reports</td>\n",
       "      <td>Consumer Discretionary</td>\n",
       "      <td>Restaurants</td>\n",
       "      <td>Louisville, Kentucky</td>\n",
       "      <td>1997-10-06</td>\n",
       "      <td>1041061</td>\n",
       "      <td>1997</td>\n",
       "      <td>130.92</td>\n",
       "      <td>134.62</td>\n",
       "      <td>87.82</td>\n",
       "    </tr>\n",
       "    <tr>\n",
       "      <th>ZBRA</th>\n",
       "      <td>Zebra Technologies</td>\n",
       "      <td>reports</td>\n",
       "      <td>Information Technology</td>\n",
       "      <td>Electronic Equipment &amp; Instruments</td>\n",
       "      <td>Lincolnshire, Illinois</td>\n",
       "      <td>2019-12-23</td>\n",
       "      <td>877212</td>\n",
       "      <td>1969</td>\n",
       "      <td>590.60</td>\n",
       "      <td>590.60</td>\n",
       "      <td>248.73</td>\n",
       "    </tr>\n",
       "    <tr>\n",
       "      <th>ZBH</th>\n",
       "      <td>Zimmer Biomet</td>\n",
       "      <td>reports</td>\n",
       "      <td>Health Care</td>\n",
       "      <td>Health Care Equipment</td>\n",
       "      <td>Warsaw, Indiana</td>\n",
       "      <td>2001-08-07</td>\n",
       "      <td>1136869</td>\n",
       "      <td>1927</td>\n",
       "      <td>146.74</td>\n",
       "      <td>178.35</td>\n",
       "      <td>131.28</td>\n",
       "    </tr>\n",
       "    <tr>\n",
       "      <th>ZION</th>\n",
       "      <td>Zions Bancorp</td>\n",
       "      <td>reports</td>\n",
       "      <td>Financials</td>\n",
       "      <td>Regional Banks</td>\n",
       "      <td>Salt Lake City, Utah</td>\n",
       "      <td>2001-06-22</td>\n",
       "      <td>109380</td>\n",
       "      <td>1873</td>\n",
       "      <td>57.12</td>\n",
       "      <td>60.27</td>\n",
       "      <td>27.63</td>\n",
       "    </tr>\n",
       "    <tr>\n",
       "      <th>ZTS</th>\n",
       "      <td>Zoetis</td>\n",
       "      <td>reports</td>\n",
       "      <td>Health Care</td>\n",
       "      <td>Pharmaceuticals</td>\n",
       "      <td>Parsippany, New Jersey</td>\n",
       "      <td>2013-06-21</td>\n",
       "      <td>1555280</td>\n",
       "      <td>1952</td>\n",
       "      <td>209.69</td>\n",
       "      <td>209.69</td>\n",
       "      <td>143.60</td>\n",
       "    </tr>\n",
       "  </tbody>\n",
       "</table>\n",
       "</div>"
      ],
      "text/plain": [
       "                      Name  Filings                  Sector  \\\n",
       "Symbol                                                        \n",
       "XEL            Xcel Energy  reports               Utilities   \n",
       "XLNX                Xilinx  reports  Information Technology   \n",
       "XYL                  Xylem  reports             Industrials   \n",
       "YUM            Yum! Brands  reports  Consumer Discretionary   \n",
       "ZBRA    Zebra Technologies  reports  Information Technology   \n",
       "ZBH          Zimmer Biomet  reports             Health Care   \n",
       "ZION         Zions Bancorp  reports              Financials   \n",
       "ZTS                 Zoetis  reports             Health Care   \n",
       "\n",
       "                                Sub-Sector                      HQ  \\\n",
       "Symbol                                                               \n",
       "XEL                        Multi-Utilities  Minneapolis, Minnesota   \n",
       "XLNX                        Semiconductors    San Jose, California   \n",
       "XYL                   Industrial Machinery  White Plains, New York   \n",
       "YUM                            Restaurants    Louisville, Kentucky   \n",
       "ZBRA    Electronic Equipment & Instruments  Lincolnshire, Illinois   \n",
       "ZBH                  Health Care Equipment         Warsaw, Indiana   \n",
       "ZION                        Regional Banks    Salt Lake City, Utah   \n",
       "ZTS                        Pharmaceuticals  Parsippany, New Jersey   \n",
       "\n",
       "       Date first added      CIK Founded   Price  52 Week High  52 Week Low  \n",
       "Symbol                                                                       \n",
       "XEL          1957-03-04    72903    1909   69.80         73.18        57.22  \n",
       "XLNX         1999-11-08   743988    1984  155.96        156.27        97.01  \n",
       "XYL          2011-11-01  1524472    2011  137.25        138.03        81.37  \n",
       "YUM          1997-10-06  1041061    1997  130.92        134.62        87.82  \n",
       "ZBRA         2019-12-23   877212    1969  590.60        590.60       248.73  \n",
       "ZBH          2001-08-07  1136869    1927  146.74        178.35       131.28  \n",
       "ZION         2001-06-22   109380    1873   57.12         60.27        27.63  \n",
       "ZTS          2013-06-21  1555280    1952  209.69        209.69       143.60  "
      ]
     },
     "execution_count": 3,
     "metadata": {},
     "output_type": "execute_result"
    }
   ],
   "source": [
    "df.head()\n",
    "df.head(8)\n",
    "df.tail()\n",
    "df.tail(8)\n"
   ]
  },
  {
   "cell_type": "markdown",
   "metadata": {},
   "source": [
    "## DataFrames - Rows and Columns \n",
    "\n",
    "Selecting data from a DataFrame for specific row(s) or columns(s)\n",
    "<br><br>\n",
    "- use df['ColA'] to select a single column \n",
    "- use df[['ColA', 'ColB']] to select multiple columns\n",
    "- use df.loc['RowA'] to select a row by the rows label\n",
    "- use df.loc[['RowA', ['RowB']] to select a row by the rows label"
   ]
  },
  {
   "cell_type": "code",
   "execution_count": 4,
   "metadata": {
    "tags": []
   },
   "outputs": [
    {
     "data": {
      "text/html": [
       "<div>\n",
       "<style scoped>\n",
       "    .dataframe tbody tr th:only-of-type {\n",
       "        vertical-align: middle;\n",
       "    }\n",
       "\n",
       "    .dataframe tbody tr th {\n",
       "        vertical-align: top;\n",
       "    }\n",
       "\n",
       "    .dataframe thead th {\n",
       "        text-align: right;\n",
       "    }\n",
       "</style>\n",
       "<table border=\"1\" class=\"dataframe\">\n",
       "  <thead>\n",
       "    <tr style=\"text-align: right;\">\n",
       "      <th></th>\n",
       "      <th>Name</th>\n",
       "      <th>Filings</th>\n",
       "      <th>Sector</th>\n",
       "      <th>Sub-Sector</th>\n",
       "      <th>HQ</th>\n",
       "      <th>Date first added</th>\n",
       "      <th>CIK</th>\n",
       "      <th>Founded</th>\n",
       "      <th>Price</th>\n",
       "      <th>52 Week High</th>\n",
       "      <th>52 Week Low</th>\n",
       "    </tr>\n",
       "    <tr>\n",
       "      <th>Symbol</th>\n",
       "      <th></th>\n",
       "      <th></th>\n",
       "      <th></th>\n",
       "      <th></th>\n",
       "      <th></th>\n",
       "      <th></th>\n",
       "      <th></th>\n",
       "      <th></th>\n",
       "      <th></th>\n",
       "      <th></th>\n",
       "      <th></th>\n",
       "    </tr>\n",
       "  </thead>\n",
       "  <tbody>\n",
       "    <tr>\n",
       "      <th>IBM</th>\n",
       "      <td>IBM</td>\n",
       "      <td>reports</td>\n",
       "      <td>Information Technology</td>\n",
       "      <td>IT Consulting &amp; Other Services</td>\n",
       "      <td>Armonk, New York</td>\n",
       "      <td>1957-03-04</td>\n",
       "      <td>51143</td>\n",
       "      <td>1911</td>\n",
       "      <td>135.23</td>\n",
       "      <td>149.56</td>\n",
       "      <td>101.43</td>\n",
       "    </tr>\n",
       "    <tr>\n",
       "      <th>MMM</th>\n",
       "      <td>3M</td>\n",
       "      <td>reports</td>\n",
       "      <td>Industrials</td>\n",
       "      <td>Industrial Conglomerates</td>\n",
       "      <td>Saint Paul, Minnesota</td>\n",
       "      <td>1976-08-09</td>\n",
       "      <td>66740</td>\n",
       "      <td>1902</td>\n",
       "      <td>181.49</td>\n",
       "      <td>204.49</td>\n",
       "      <td>153.53</td>\n",
       "    </tr>\n",
       "    <tr>\n",
       "      <th>C</th>\n",
       "      <td>Citigroup</td>\n",
       "      <td>reports</td>\n",
       "      <td>Financials</td>\n",
       "      <td>Diversified Banks</td>\n",
       "      <td>New York City, New York</td>\n",
       "      <td>1988-05-31</td>\n",
       "      <td>831001</td>\n",
       "      <td>1998</td>\n",
       "      <td>69.96</td>\n",
       "      <td>79.27</td>\n",
       "      <td>39.71</td>\n",
       "    </tr>\n",
       "  </tbody>\n",
       "</table>\n",
       "</div>"
      ],
      "text/plain": [
       "             Name  Filings                  Sector  \\\n",
       "Symbol                                               \n",
       "IBM           IBM  reports  Information Technology   \n",
       "MMM            3M  reports             Industrials   \n",
       "C       Citigroup  reports              Financials   \n",
       "\n",
       "                            Sub-Sector                       HQ  \\\n",
       "Symbol                                                            \n",
       "IBM     IT Consulting & Other Services         Armonk, New York   \n",
       "MMM           Industrial Conglomerates    Saint Paul, Minnesota   \n",
       "C                    Diversified Banks  New York City, New York   \n",
       "\n",
       "       Date first added     CIK Founded   Price  52 Week High  52 Week Low  \n",
       "Symbol                                                                      \n",
       "IBM          1957-03-04   51143    1911  135.23        149.56       101.43  \n",
       "MMM          1976-08-09   66740    1902  181.49        204.49       153.53  \n",
       "C            1988-05-31  831001    1998   69.96         79.27        39.71  "
      ]
     },
     "execution_count": 4,
     "metadata": {},
     "output_type": "execute_result"
    }
   ],
   "source": [
    "df['Name']\n",
    "df[['Name', 'Sector', 'Price']]\n",
    "\n",
    "df.loc['FB']\n",
    "#\n",
    "df.loc[['IBM', 'MMM', 'C']]"
   ]
  },
  {
   "cell_type": "markdown",
   "metadata": {},
   "source": [
    "## DataFrames - Tip\n",
    "\n",
    "The syntax for selecting multiple rows and multiple columns looks a bit awkward, especially if you are not familiar with computer programming.\n",
    "\n",
    "The confusion arises from the following:\n",
    "- Why use a single set of square brackets [ 'ColA' ] in some cases and a double set of square brackets in other cases [['ColA', 'ColB']]\n",
    "- This is to do with the python programming language and its choice of syntax for certain types of collections.\n",
    "<br><br>\n",
    "\n",
    "Quite often, analysts will simply create a list of the columns or rows they are interested in, give this list a name and use it instead."
   ]
  },
  {
   "cell_type": "code",
   "execution_count": 5,
   "metadata": {
    "tags": []
   },
   "outputs": [
    {
     "data": {
      "text/html": [
       "<div>\n",
       "<style scoped>\n",
       "    .dataframe tbody tr th:only-of-type {\n",
       "        vertical-align: middle;\n",
       "    }\n",
       "\n",
       "    .dataframe tbody tr th {\n",
       "        vertical-align: top;\n",
       "    }\n",
       "\n",
       "    .dataframe thead th {\n",
       "        text-align: right;\n",
       "    }\n",
       "</style>\n",
       "<table border=\"1\" class=\"dataframe\">\n",
       "  <thead>\n",
       "    <tr style=\"text-align: right;\">\n",
       "      <th></th>\n",
       "      <th>Name</th>\n",
       "      <th>Filings</th>\n",
       "      <th>Sector</th>\n",
       "      <th>Sub-Sector</th>\n",
       "      <th>HQ</th>\n",
       "      <th>Date first added</th>\n",
       "      <th>CIK</th>\n",
       "      <th>Founded</th>\n",
       "      <th>Price</th>\n",
       "      <th>52 Week High</th>\n",
       "      <th>52 Week Low</th>\n",
       "    </tr>\n",
       "    <tr>\n",
       "      <th>Symbol</th>\n",
       "      <th></th>\n",
       "      <th></th>\n",
       "      <th></th>\n",
       "      <th></th>\n",
       "      <th></th>\n",
       "      <th></th>\n",
       "      <th></th>\n",
       "      <th></th>\n",
       "      <th></th>\n",
       "      <th></th>\n",
       "      <th></th>\n",
       "    </tr>\n",
       "  </thead>\n",
       "  <tbody>\n",
       "    <tr>\n",
       "      <th>IBM</th>\n",
       "      <td>IBM</td>\n",
       "      <td>reports</td>\n",
       "      <td>Information Technology</td>\n",
       "      <td>IT Consulting &amp; Other Services</td>\n",
       "      <td>Armonk, New York</td>\n",
       "      <td>1957-03-04</td>\n",
       "      <td>51143</td>\n",
       "      <td>1911</td>\n",
       "      <td>135.23</td>\n",
       "      <td>149.56</td>\n",
       "      <td>101.43</td>\n",
       "    </tr>\n",
       "    <tr>\n",
       "      <th>MMM</th>\n",
       "      <td>3M</td>\n",
       "      <td>reports</td>\n",
       "      <td>Industrials</td>\n",
       "      <td>Industrial Conglomerates</td>\n",
       "      <td>Saint Paul, Minnesota</td>\n",
       "      <td>1976-08-09</td>\n",
       "      <td>66740</td>\n",
       "      <td>1902</td>\n",
       "      <td>181.49</td>\n",
       "      <td>204.49</td>\n",
       "      <td>153.53</td>\n",
       "    </tr>\n",
       "    <tr>\n",
       "      <th>C</th>\n",
       "      <td>Citigroup</td>\n",
       "      <td>reports</td>\n",
       "      <td>Financials</td>\n",
       "      <td>Diversified Banks</td>\n",
       "      <td>New York City, New York</td>\n",
       "      <td>1988-05-31</td>\n",
       "      <td>831001</td>\n",
       "      <td>1998</td>\n",
       "      <td>69.96</td>\n",
       "      <td>79.27</td>\n",
       "      <td>39.71</td>\n",
       "    </tr>\n",
       "  </tbody>\n",
       "</table>\n",
       "</div>"
      ],
      "text/plain": [
       "             Name  Filings                  Sector  \\\n",
       "Symbol                                               \n",
       "IBM           IBM  reports  Information Technology   \n",
       "MMM            3M  reports             Industrials   \n",
       "C       Citigroup  reports              Financials   \n",
       "\n",
       "                            Sub-Sector                       HQ  \\\n",
       "Symbol                                                            \n",
       "IBM     IT Consulting & Other Services         Armonk, New York   \n",
       "MMM           Industrial Conglomerates    Saint Paul, Minnesota   \n",
       "C                    Diversified Banks  New York City, New York   \n",
       "\n",
       "       Date first added     CIK Founded   Price  52 Week High  52 Week Low  \n",
       "Symbol                                                                      \n",
       "IBM          1957-03-04   51143    1911  135.23        149.56       101.43  \n",
       "MMM          1976-08-09   66740    1902  181.49        204.49       153.53  \n",
       "C            1988-05-31  831001    1998   69.96         79.27        39.71  "
      ]
     },
     "execution_count": 5,
     "metadata": {},
     "output_type": "execute_result"
    }
   ],
   "source": [
    "cols = ['Name', 'Sector', 'Price']\n",
    "df[cols]\n",
    "\n",
    "rows = ['IBM', 'MMM', 'C']\n",
    "df.loc[rows]"
   ]
  },
  {
   "cell_type": "markdown",
   "metadata": {},
   "source": [
    "## DataFrames - functions on columns of data\n",
    "\n",
    "It's easy to apply functions to specific columns of data.\n",
    "\n",
    "Select the column(s) of interest\n",
    "\n",
    "Use the .function() syntax\n",
    "\n",
    "- df['ColA'].mean() -- the mean \n",
    "- df['ColB].min() -- the minimum \n",
    "- df['COlA'].count() -- a count of how many values in ColA\n",
    "- df['ColB].max() -- the maximum price/earnings\n",
    "- df[mycols].median() -- median of all columns in the sequence mycols"
   ]
  },
  {
   "cell_type": "code",
   "execution_count": 6,
   "metadata": {
    "tags": []
   },
   "outputs": [
    {
     "data": {
      "text/plain": [
       "'3M'"
      ]
     },
     "execution_count": 6,
     "metadata": {},
     "output_type": "execute_result"
    }
   ],
   "source": [
    "cols = ['52 Week High', '52 Week Low']\n",
    "\n",
    "df['Price'].mean()\n",
    "df['Price'].min()\n",
    "df['Name'].count()\n",
    "df[cols].max()\n",
    "df[cols].median()\n",
    "\n",
    "# max and min also have a meaning when working with string values\n",
    "df['Name'].max()\n",
    "df['Name'].min()"
   ]
  },
  {
   "cell_type": "markdown",
   "metadata": {},
   "source": [
    "# numpy\n",
    "\n",
    "**numpy** (numerical python) is a python package used quite a lot for performing numerical calculations.\n",
    "\n",
    "numpy has been designed specifically to perform advanced computations on large sets of numbers.\n",
    "\n",
    "It is extremely fast, it is extremely memory efficient and it is very often used in conjunction with pandas when performing complex numerical calculations in conjunction with data analysis on large sets of data.\n",
    "\n",
    "numpy is an advanced library designed to meet the needs of advanced users, but a rudimentary understanding of numpy is important to become efficient with pandas and DataFrames"
   ]
  },
  {
   "cell_type": "code",
   "execution_count": 7,
   "metadata": {
    "tags": []
   },
   "outputs": [],
   "source": [
    "import numpy as np"
   ]
  },
  {
   "cell_type": "markdown",
   "metadata": {},
   "source": [
    "## numpy arrays\n",
    "\n",
    "A numpy array is a collection of values.\n",
    "\n",
    "Internally numpy stores the values in a numpy array in a highly efficient and optimized manner (details of this are way outside the remit of this course)\n",
    "\n",
    "More than likely, you will NEVER need to know the internal structure of a numpy array (or any numpy data structure)\n",
    "\n",
    "However, you should appreciate or simply accept that when performing calculations on sets of numbers, you will need to use the numpy package"
   ]
  },
  {
   "cell_type": "code",
   "execution_count": 8,
   "metadata": {
    "tags": []
   },
   "outputs": [],
   "source": [
    "arr1 = np.array ([1,2,3,4,5])\n",
    "arr2 = np.array([10,20,30,40,50])"
   ]
  },
  {
   "cell_type": "markdown",
   "metadata": {},
   "source": [
    "## numpy array  -- arithmetic\n",
    "\n",
    "Use standard mathematical notation for adding, subtracting and comparing entire arrays.\n",
    "\n",
    "For those who understand computer programming, note: ** NO NEED TO LOOP OVER EACH VALUE **"
   ]
  },
  {
   "cell_type": "code",
   "execution_count": 9,
   "metadata": {
    "tags": []
   },
   "outputs": [
    {
     "data": {
      "text/plain": [
       "array([ 9, 18, 27, 36, 45])"
      ]
     },
     "execution_count": 9,
     "metadata": {},
     "output_type": "execute_result"
    }
   ],
   "source": [
    "# E.g. Add all values in arr1 and arr2\n",
    "\n",
    "# Note there is no need for looping etc.\n",
    "arr1 + arr2\n",
    "\n",
    "# Same for other operations\n",
    "arr1 * arr2\n",
    "\n",
    "arr2 - arr1"
   ]
  },
  {
   "cell_type": "markdown",
   "metadata": {},
   "source": [
    "## numpy array -- comparisons"
   ]
  },
  {
   "cell_type": "code",
   "execution_count": 10,
   "metadata": {
    "tags": []
   },
   "outputs": [
    {
     "data": {
      "text/plain": [
       "array([False, False,  True, False, False])"
      ]
     },
     "execution_count": 10,
     "metadata": {},
     "output_type": "execute_result"
    }
   ],
   "source": [
    "# same for comparisons\n",
    "arr1 > arr2\n",
    "arr1 < arr2\n",
    "arr1 <= arr2\n",
    "arr1 >= arr2\n",
    "arr1 == arr2\n",
    "arr1 != arr2\n",
    "\n",
    "# and also more complex expressions\n",
    "(arr1 + 12) >= 15\n",
    "(arr2 - arr1) == 27"
   ]
  },
  {
   "cell_type": "markdown",
   "metadata": {},
   "source": [
    "## numpy - boolean operators\n"
   ]
  },
  {
   "cell_type": "code",
   "execution_count": 11,
   "metadata": {
    "tags": []
   },
   "outputs": [
    {
     "data": {
      "text/plain": [
       "array([ True, False,  True, False,  True])"
      ]
     },
     "execution_count": 11,
     "metadata": {},
     "output_type": "execute_result"
    }
   ],
   "source": [
    "np.logical_or(  (arr1 % 2) == 0, (arr2 % 20) == 0 )\n",
    "\n",
    "np.logical_and( (arr1 % 2) == 0, (arr2 % 20) == 0 )\n",
    "\n",
    "np.logical_not( (arr1 % 2) == 0 )\n"
   ]
  },
  {
   "cell_type": "markdown",
   "metadata": {},
   "source": [
    "## numpy - scientific functions\n",
    "\n",
    "numpy comes with a whole battery of mathematical functions\n",
    "\n",
    "logs and exponential functions<br>\n",
    "trigonometry<br>\n",
    "advanced statistics\n",
    "\n",
    "These work on individual values or on arrays of values"
   ]
  },
  {
   "cell_type": "code",
   "execution_count": 12,
   "metadata": {
    "tags": []
   },
   "outputs": [
    {
     "data": {
      "text/plain": [
       "array([  2.71828183,   7.3890561 ,  20.08553692,  54.59815003,\n",
       "       148.4131591 ])"
      ]
     },
     "execution_count": 12,
     "metadata": {},
     "output_type": "execute_result"
    }
   ],
   "source": [
    "np.square(6)\n",
    "np.square(arr1)\n",
    "\n",
    "np.log10(100)\n",
    "np.log(arr2)\n",
    "\n",
    "np.exp(arr1)"
   ]
  },
  {
   "cell_type": "markdown",
   "metadata": {},
   "source": [
    "## array arithmetic with a DataFrame\n",
    "\n",
    "The same style of arithmetic can be used on the columns of a DataFrame\n",
    "\n",
    "df['ColA'] = df['ColB']\n",
    "\n",
    "df['ColA'] > 12"
   ]
  },
  {
   "cell_type": "code",
   "execution_count": 13,
   "metadata": {
    "tags": []
   },
   "outputs": [
    {
     "data": {
      "text/plain": [
       "Symbol\n",
       "MMM     False\n",
       "ABT     False\n",
       "ABBV    False\n",
       "ABMD    False\n",
       "ACN     False\n",
       "        ...  \n",
       "YUM     False\n",
       "ZBRA    False\n",
       "ZBH     False\n",
       "ZION     True\n",
       "ZTS     False\n",
       "Name: Price, Length: 503, dtype: bool"
      ]
     },
     "execution_count": 13,
     "metadata": {},
     "output_type": "execute_result"
    }
   ],
   "source": [
    "df['52 Week High'] - df['52 Week Low']\n",
    "\n",
    "df['Price'] < 100"
   ]
  },
  {
   "cell_type": "markdown",
   "metadata": {},
   "source": [
    "## numpy - where\n",
    "\n",
    "The numpy **where** function is an extremely useful function, we will be using it in some financial analysis that we will be doing later on in this course.\n",
    "\n",
    "np.where is a function that accepts 3 parameters:<br>\n",
    "* an expression<br>\n",
    "* a value to return if the expression is True<br>\n",
    "* a value to return if the expression is False\n",
    "\n",
    "For example\n",
    "\n",
    "the operator % is also known as the modulo operator.\n",
    "\n",
    "The modulus of a number is its remainder after performing division on it.\n",
    "\n",
    "e.g. \n",
    "\n",
    "5 % 2 = 1\n",
    "<br>\n",
    "4 % 2 = 0\n",
    "<br>\n",
    "3 % 2 = 1\n",
    "\n",
    "A simple way to test if a number is even is to check if modulus 2 returns 0\n",
    "\n",
    "Try the following:\n",
    "<br>\n",
    "np.where(arr1 % 2 == 0, 'Even', 'Odd')\n",
    "\n",
    "This should return the correct word 'Even' or 'Odd' for each number in the array 'arr1'\n"
   ]
  },
  {
   "cell_type": "code",
   "execution_count": 14,
   "metadata": {
    "tags": []
   },
   "outputs": [
    {
     "data": {
      "text/plain": [
       "array(['Did not Match', 'Matched', 'Did not Match', 'Matched',\n",
       "       'Did not Match', 'Matched'], dtype='<U13')"
      ]
     },
     "execution_count": 14,
     "metadata": {},
     "output_type": "execute_result"
    }
   ],
   "source": [
    "arr1 = np.array ([1,2,3,4,5,6])\n",
    "arr2 = np.array ([2,2,4,4,6,6])\n",
    "\n",
    "np.where(arr1 % 2 == 0, 'Even', 'Odd')\n",
    "np.where(arr1 == arr2, 'Matched', 'Did not Match')"
   ]
  },
  {
   "cell_type": "markdown",
   "metadata": {},
   "source": [
    "## numpy where on a DataFrame\n",
    "\n",
    "np.where can be used on a DataFrame:\n",
    "\n",
    "e.g.\n",
    "\n",
    "np.where(df['Earnings/Share'] < 0, 'Negative', 'Positive')"
   ]
  },
  {
   "cell_type": "code",
   "execution_count": 15,
   "metadata": {
    "scrolled": true,
    "tags": []
   },
   "outputs": [
    {
     "data": {
      "text/plain": [
       "array(['Good', 'Bad', 'Bad', 'Bad', 'Bad', 'Bad', 'Bad', 'Bad', 'Bad',\n",
       "       'Bad', 'Bad', 'Bad', 'Bad', 'Bad', 'Good', 'Bad', 'Bad', 'Bad',\n",
       "       'Good', 'Bad', 'Bad', 'Bad', 'Bad', 'Bad', 'Bad', 'Bad', 'Bad',\n",
       "       'Bad', 'Bad', 'Bad', 'Bad', 'Bad', 'Bad', 'Bad', 'Bad', 'Good',\n",
       "       'Bad', 'Bad', 'Bad', 'Bad', 'Bad', 'Bad', 'Good', 'Bad', 'Bad',\n",
       "       'Bad', 'Bad', 'Bad', 'Bad', 'Bad', 'Bad', 'Bad', 'Bad', 'Bad',\n",
       "       'Bad', 'Bad', 'Bad', 'Bad', 'Bad', 'Bad', 'Bad', 'Bad', 'Bad',\n",
       "       'Bad', 'Bad', 'Bad', 'Bad', 'Bad', 'Bad', 'Bad', 'Good', 'Bad',\n",
       "       'Bad', 'Bad', 'Bad', 'Bad', 'Bad', 'Bad', 'Good', 'Bad', 'Bad',\n",
       "       'Bad', 'Bad', 'Bad', 'Bad', 'Bad', 'Bad', 'Good', 'Bad', 'Good',\n",
       "       'Bad', 'Bad', 'Bad', 'Bad', 'Bad', 'Bad', 'Bad', 'Bad', 'Bad',\n",
       "       'Bad', 'Bad', 'Bad', 'Bad', 'Bad', 'Bad', 'Bad', 'Bad', 'Good',\n",
       "       'Bad', 'Bad', 'Bad', 'Bad', 'Bad', 'Bad', 'Bad', 'Bad', 'Bad',\n",
       "       'Bad', 'Bad', 'Bad', 'Bad', 'Bad', 'Bad', 'Bad', 'Bad', 'Good',\n",
       "       'Bad', 'Bad', 'Bad', 'Bad', 'Bad', 'Good', 'Bad', 'Bad', 'Bad',\n",
       "       'Bad', 'Bad', 'Good', 'Bad', 'Bad', 'Bad', 'Bad', 'Bad', 'Bad',\n",
       "       'Bad', 'Bad', 'Bad', 'Bad', 'Bad', 'Bad', 'Bad', 'Bad', 'Good',\n",
       "       'Bad', 'Bad', 'Bad', 'Bad', 'Bad', 'Bad', 'Bad', 'Good', 'Bad',\n",
       "       'Bad', 'Bad', 'Bad', 'Bad', 'Good', 'Bad', 'Bad', 'Bad', 'Good',\n",
       "       'Bad', 'Bad', 'Bad', 'Bad', 'Bad', 'Bad', 'Bad', 'Bad', 'Bad',\n",
       "       'Bad', 'Good', 'Bad', 'Bad', 'Bad', 'Bad', 'Good', 'Bad', 'Good',\n",
       "       'Bad', 'Bad', 'Bad', 'Bad', 'Bad', 'Bad', 'Bad', 'Bad', 'Bad',\n",
       "       'Good', 'Good', 'Bad', 'Bad', 'Bad', 'Bad', 'Bad', 'Bad', 'Bad',\n",
       "       'Good', 'Good', 'Good', 'Bad', 'Bad', 'Bad', 'Bad', 'Bad', 'Bad',\n",
       "       'Bad', 'Good', 'Bad', 'Bad', 'Bad', 'Bad', 'Bad', 'Bad', 'Bad',\n",
       "       'Bad', 'Bad', 'Bad', 'Bad', 'Bad', 'Bad', 'Good', 'Bad', 'Bad',\n",
       "       'Bad', 'Bad', 'Bad', 'Bad', 'Good', 'Good', 'Bad', 'Good', 'Good',\n",
       "       'Bad', 'Bad', 'Good', 'Bad', 'Bad', 'Bad', 'Bad', 'Bad', 'Bad',\n",
       "       'Bad', 'Bad', 'Bad', 'Bad', 'Bad', 'Bad', 'Bad', 'Good', 'Good',\n",
       "       'Bad', 'Bad', 'Good', 'Bad', 'Bad', 'Good', 'Bad', 'Bad', 'Bad',\n",
       "       'Bad', 'Bad', 'Bad', 'Bad', 'Bad', 'Bad', 'Good', 'Bad', 'Bad',\n",
       "       'Bad', 'Bad', 'Bad', 'Good', 'Bad', 'Bad', 'Bad', 'Bad', 'Bad',\n",
       "       'Bad', 'Good', 'Bad', 'Bad', 'Bad', 'Bad', 'Bad', 'Bad', 'Bad',\n",
       "       'Bad', 'Bad', 'Bad', 'Bad', 'Good', 'Bad', 'Bad', 'Bad', 'Bad',\n",
       "       'Bad', 'Bad', 'Bad', 'Bad', 'Bad', 'Bad', 'Bad', 'Bad', 'Bad',\n",
       "       'Bad', 'Bad', 'Bad', 'Bad', 'Bad', 'Bad', 'Bad', 'Bad', 'Bad',\n",
       "       'Bad', 'Bad', 'Bad', 'Bad', 'Bad', 'Bad', 'Bad', 'Bad', 'Bad',\n",
       "       'Bad', 'Bad', 'Bad', 'Bad', 'Good', 'Bad', 'Good', 'Bad', 'Bad',\n",
       "       'Bad', 'Bad', 'Bad', 'Bad', 'Bad', 'Bad', 'Bad', 'Bad', 'Good',\n",
       "       'Bad', 'Bad', 'Bad', 'Bad', 'Good', 'Good', 'Bad', 'Good', 'Bad',\n",
       "       'Bad', 'Bad', 'Bad', 'Good', 'Bad', 'Bad', 'Bad', 'Bad', 'Bad',\n",
       "       'Bad', 'Bad', 'Bad', 'Bad', 'Bad', 'Bad', 'Bad', 'Bad', 'Bad',\n",
       "       'Bad', 'Bad', 'Bad', 'Bad', 'Bad', 'Bad', 'Bad', 'Bad', 'Bad',\n",
       "       'Bad', 'Good', 'Bad', 'Bad', 'Bad', 'Bad', 'Good', 'Bad', 'Bad',\n",
       "       'Bad', 'Bad', 'Good', 'Bad', 'Good', 'Good', 'Bad', 'Good', 'Bad',\n",
       "       'Bad', 'Bad', 'Bad', 'Bad', 'Bad', 'Bad', 'Bad', 'Bad', 'Bad',\n",
       "       'Bad', 'Bad', 'Bad', 'Good', 'Bad', 'Bad', 'Good', 'Bad', 'Bad',\n",
       "       'Bad', 'Bad', 'Bad', 'Bad', 'Bad', 'Bad', 'Bad', 'Bad', 'Bad',\n",
       "       'Bad', 'Bad', 'Bad', 'Good', 'Bad', 'Bad', 'Bad', 'Bad', 'Bad',\n",
       "       'Bad', 'Bad', 'Bad', 'Good', 'Good', 'Bad', 'Bad', 'Bad', 'Bad',\n",
       "       'Bad', 'Bad', 'Bad', 'Bad', 'Bad', 'Bad', 'Bad', 'Good', 'Bad',\n",
       "       'Bad', 'Good', 'Good', 'Bad', 'Bad', 'Bad', 'Bad', 'Bad', 'Good',\n",
       "       'Bad', 'Bad', 'Bad', 'Bad', 'Bad', 'Bad', 'Bad', 'Bad', 'Bad',\n",
       "       'Good', 'Bad', 'Bad', 'Bad', 'Good', 'Bad', 'Bad', 'Bad', 'Bad',\n",
       "       'Bad', 'Bad', 'Bad', 'Bad', 'Bad', 'Bad', 'Bad', 'Bad', 'Bad',\n",
       "       'Bad', 'Bad', 'Good', 'Bad', 'Bad', 'Bad', 'Bad', 'Bad'],\n",
       "      dtype='<U4')"
      ]
     },
     "execution_count": 15,
     "metadata": {},
     "output_type": "execute_result"
    }
   ],
   "source": [
    "np.where(df['Price'] < 100, 'Cheap', 'Expensive')\n",
    "\n",
    "np.where( (df['Sector'] == 'Industrials') & (df['Price'] > 50), 'Good', 'Bad')"
   ]
  },
  {
   "cell_type": "markdown",
   "metadata": {},
   "source": [
    "# Graphs and Charts\n",
    "\n",
    "There are lots of sophisticated charting and graphing packages for python\n",
    "\n",
    "The one we will be using is called **matplotlib.pyplot**\n",
    "\n",
    "You can draw simple line charts of columns by using the **plot()** method on a column\n"
   ]
  },
  {
   "cell_type": "code",
   "execution_count": 16,
   "metadata": {
    "tags": []
   },
   "outputs": [],
   "source": [
    "import matplotlib.pyplot as plt\n",
    "\n",
    "%matplotlib inline"
   ]
  },
  {
   "cell_type": "markdown",
   "metadata": {},
   "source": [
    "## Plot some values\n",
    "\n",
    "e.g. a bar chart showing the 52 Week High and low for famous FANG stocks (Facebook, Amazon, Netflix and Google)"
   ]
  },
  {
   "cell_type": "code",
   "execution_count": 17,
   "metadata": {
    "tags": []
   },
   "outputs": [
    {
     "data": {
      "text/plain": [
       "<AxesSubplot:ylabel='Symbol'>"
      ]
     },
     "execution_count": 17,
     "metadata": {},
     "output_type": "execute_result"
    },
    {
     "data": {
      "image/png": "[encoded data removed]",
      "text/plain": [
       "<Figure size 640x480 with 1 Axes>"
      ]
     },
     "metadata": {},
     "output_type": "display_data"
    }
   ],
   "source": [
    "cols = ['52 Week High','52 Week Low']\n",
    "rows = ['FB', 'AMZN', 'NFLX', 'GOOGL']\n",
    "\n",
    "df.loc[rows][cols].plot(kind='barh')"
   ]
  },
  {
   "cell_type": "markdown",
   "metadata": {},
   "source": [
    "\n",
    "# Bollinger Bands\n",
    "\n",
    "Bollinger bands are a type of statistical chart characterizing the prices and volatility over time of a financial instrument or commodity, using a formulaic method propounded by John Bollinger in the 1980s. \n",
    "\n",
    "Financial traders employ these charts as a methodical tool to inform trading decisions, control automated trading systems, or as a component of technical analysis. \n",
    "\n",
    "Bollinger bands display a graphical band, usually an upper and a lower band.\n",
    "\n",
    "This is a very simple example of \n",
    "- creating a Bollinger band for 2 std deviations above and below the price of oil\n",
    "- displaying the Bollinger band graphically"
   ]
  },
  {
   "cell_type": "markdown",
   "metadata": {},
   "source": [
    "## Load in the libraries"
   ]
  },
  {
   "cell_type": "code",
   "execution_count": 18,
   "metadata": {
    "tags": []
   },
   "outputs": [],
   "source": [
    "import pandas as pd\n",
    "import numpy as np\n",
    "import matplotlib.pyplot as plt\n",
    "\n",
    "%matplotlib inline"
   ]
  },
  {
   "cell_type": "markdown",
   "metadata": {},
   "source": [
    "## Load in the data\n",
    "\n",
    "Use the file GOLD.csv into a DataFrame"
   ]
  },
  {
   "cell_type": "code",
   "execution_count": 19,
   "metadata": {
    "tags": []
   },
   "outputs": [],
   "source": [
    "df = pd.read_excel('../Data/market_data.xlsx', sheet_name='GOOGL', index_col='Date')"
   ]
  },
  {
   "cell_type": "markdown",
   "metadata": {},
   "source": [
    "## Create a new DataFrame \n",
    "\n",
    "We are going to create a new DataFrame with 3 columns.\n",
    "\n",
    "This DataFrame will be used to store data for the Bollinger band which will be derived from the original data\n",
    "\n",
    "- **'Price(m avg)'** A monthly rolling average of the 'USD (PM)' column\n",
    "- **'Upper'** which will be 2 std deviations of the price above **'Price(m avg)'**\n",
    "- **'Lower'** which will be 2 std deviations of the price below **'Price(m avg)'**\n",
    "\n",
    "** NOTE ** <br>\n",
    "- Don't panic if you don't understand the syntax, commands, rolling(30) etc.<BR>\n",
    "- We will cover this in subsequent lessons.<BR>\n",
    "- Understand that this is a very typical analysis that Financial Data Analysts perform on a daily basis.<BR>\n",
    "- Appreciate that python, pandas, etc. make this type of analysis extremely easy."
   ]
  },
  {
   "cell_type": "code",
   "execution_count": 20,
   "metadata": {
    "tags": []
   },
   "outputs": [
    {
     "data": {
      "text/html": [
       "<div>\n",
       "<style scoped>\n",
       "    .dataframe tbody tr th:only-of-type {\n",
       "        vertical-align: middle;\n",
       "    }\n",
       "\n",
       "    .dataframe tbody tr th {\n",
       "        vertical-align: top;\n",
       "    }\n",
       "\n",
       "    .dataframe thead th {\n",
       "        text-align: right;\n",
       "    }\n",
       "</style>\n",
       "<table border=\"1\" class=\"dataframe\">\n",
       "  <thead>\n",
       "    <tr style=\"text-align: right;\">\n",
       "      <th></th>\n",
       "      <th>Open</th>\n",
       "      <th>High</th>\n",
       "      <th>Low</th>\n",
       "      <th>Close</th>\n",
       "      <th>Adj Close</th>\n",
       "      <th>Volume</th>\n",
       "    </tr>\n",
       "    <tr>\n",
       "      <th>Date</th>\n",
       "      <th></th>\n",
       "      <th></th>\n",
       "      <th></th>\n",
       "      <th></th>\n",
       "      <th></th>\n",
       "      <th></th>\n",
       "    </tr>\n",
       "  </thead>\n",
       "  <tbody>\n",
       "    <tr>\n",
       "      <th>2004-08-19</th>\n",
       "      <td>50.050049</td>\n",
       "      <td>52.082081</td>\n",
       "      <td>48.028027</td>\n",
       "      <td>50.220219</td>\n",
       "      <td>50.220219</td>\n",
       "      <td>44659096</td>\n",
       "    </tr>\n",
       "    <tr>\n",
       "      <th>2004-08-20</th>\n",
       "      <td>50.555557</td>\n",
       "      <td>54.594597</td>\n",
       "      <td>50.300301</td>\n",
       "      <td>54.209209</td>\n",
       "      <td>54.209209</td>\n",
       "      <td>22834343</td>\n",
       "    </tr>\n",
       "    <tr>\n",
       "      <th>2004-08-23</th>\n",
       "      <td>55.430431</td>\n",
       "      <td>56.796799</td>\n",
       "      <td>54.579578</td>\n",
       "      <td>54.754753</td>\n",
       "      <td>54.754753</td>\n",
       "      <td>18256126</td>\n",
       "    </tr>\n",
       "    <tr>\n",
       "      <th>2004-08-24</th>\n",
       "      <td>55.675674</td>\n",
       "      <td>55.855858</td>\n",
       "      <td>51.836838</td>\n",
       "      <td>52.487488</td>\n",
       "      <td>52.487488</td>\n",
       "      <td>15247337</td>\n",
       "    </tr>\n",
       "    <tr>\n",
       "      <th>2004-08-25</th>\n",
       "      <td>52.532532</td>\n",
       "      <td>54.054054</td>\n",
       "      <td>51.991993</td>\n",
       "      <td>53.053055</td>\n",
       "      <td>53.053055</td>\n",
       "      <td>9188602</td>\n",
       "    </tr>\n",
       "  </tbody>\n",
       "</table>\n",
       "</div>"
      ],
      "text/plain": [
       "                 Open       High        Low      Close  Adj Close    Volume\n",
       "Date                                                                       \n",
       "2004-08-19  50.050049  52.082081  48.028027  50.220219  50.220219  44659096\n",
       "2004-08-20  50.555557  54.594597  50.300301  54.209209  54.209209  22834343\n",
       "2004-08-23  55.430431  56.796799  54.579578  54.754753  54.754753  18256126\n",
       "2004-08-24  55.675674  55.855858  51.836838  52.487488  52.487488  15247337\n",
       "2004-08-25  52.532532  54.054054  51.991993  53.053055  53.053055   9188602"
      ]
     },
     "execution_count": 20,
     "metadata": {},
     "output_type": "execute_result"
    }
   ],
   "source": [
    "df.head()"
   ]
  },
  {
   "cell_type": "code",
   "execution_count": 21,
   "metadata": {
    "scrolled": true,
    "tags": []
   },
   "outputs": [],
   "source": [
    "# Create an empty DataFrame\n",
    "# This is a second way to create a DataFrame \n",
    "# - the first is to read the data directly from a csv file\n",
    "# - this method creates an empty DataFrame in memory\n",
    "\n",
    "df_BOLL = pd.DataFrame()\n",
    "\n",
    "# Copy the 'Close' column from the original DataFrame into this DataFrame\n",
    "df_BOLL['Close'] = df['Close']\n",
    "df_BOLL['SMA(Close)'] = df_BOLL['Close'].rolling(21).mean()\n",
    "df_BOLL['Upper'] = df_BOLL['SMA(Close)'] + 2 * df_BOLL['Close'].rolling(21).std()\n",
    "df_BOLL['Lower'] = df_BOLL['SMA(Close)'] - 2 * df_BOLL['Close'].rolling(21).std()"
   ]
  },
  {
   "cell_type": "markdown",
   "metadata": {},
   "source": [
    "## Plot the results"
   ]
  },
  {
   "cell_type": "code",
   "execution_count": 22,
   "metadata": {
    "tags": []
   },
   "outputs": [
    {
     "data": {
      "text/plain": [
       "[<matplotlib.lines.Line2D at 0x13d90cf40>,\n",
       " <matplotlib.lines.Line2D at 0x13da7bfa0>,\n",
       " <matplotlib.lines.Line2D at 0x13da7bee0>,\n",
       " <matplotlib.lines.Line2D at 0x13da5c3a0>]"
      ]
     },
     "execution_count": 22,
     "metadata": {},
     "output_type": "execute_result"
    },
    {
     "data": {
      "image/png": "[encoded data removed]",
      "text/plain": [
       "<Figure size 1800x600 with 1 Axes>"
      ]
     },
     "metadata": {},
     "output_type": "display_data"
    }
   ],
   "source": [
    "fig = plt.figure(figsize=(18,6))\n",
    "\n",
    "fig.suptitle('Google -- 2 stds above/below closing price')\n",
    "plt.xlabel('Date')\n",
    "plt.ylabel('Close')\n",
    "\n",
    "plt.plot(df_BOLL)"
   ]
  },
  {
   "cell_type": "markdown",
   "metadata": {},
   "source": [
    "## Plot the results for 2017"
   ]
  },
  {
   "cell_type": "code",
   "execution_count": 23,
   "metadata": {
    "tags": []
   },
   "outputs": [
    {
     "data": {
      "text/plain": [
       "[<matplotlib.lines.Line2D at 0x13d99afa0>,\n",
       " <matplotlib.lines.Line2D at 0x13da7b790>,\n",
       " <matplotlib.lines.Line2D at 0x13da251f0>,\n",
       " <matplotlib.lines.Line2D at 0x13da253d0>]"
      ]
     },
     "execution_count": 23,
     "metadata": {},
     "output_type": "execute_result"
    },
    {
     "data": {
      "image/png": "[encoded data removed]",
      "text/plain": [
       "<Figure size 1800x600 with 1 Axes>"
      ]
     },
     "metadata": {},
     "output_type": "display_data"
    }
   ],
   "source": [
    "fig = plt.figure(figsize=(18,6))\n",
    "\n",
    "fig.suptitle('Google (2017) -- 2 stds above/below closing price')\n",
    "plt.xlabel('Date')\n",
    "plt.ylabel('Close')\n",
    "\n",
    "plt.plot(df_BOLL.loc['2017'])"
   ]
  },
  {
   "cell_type": "markdown",
   "metadata": {},
   "source": [
    "# Time resampling\n",
    "\n",
    "Resampling is conversion between frequencies.\n",
    "\n",
    "Here we are going to resample from daily pricing information to weekly, monthly or even yearly."
   ]
  },
  {
   "cell_type": "markdown",
   "metadata": {},
   "source": [
    "## Resample Price, Open, High, Low - Annually\n",
    "\n",
    "Then take the maximum of each column."
   ]
  },
  {
   "cell_type": "code",
   "execution_count": 24,
   "metadata": {
    "tags": []
   },
   "outputs": [
    {
     "data": {
      "text/html": [
       "<div>\n",
       "<style scoped>\n",
       "    .dataframe tbody tr th:only-of-type {\n",
       "        vertical-align: middle;\n",
       "    }\n",
       "\n",
       "    .dataframe tbody tr th {\n",
       "        vertical-align: top;\n",
       "    }\n",
       "\n",
       "    .dataframe thead th {\n",
       "        text-align: right;\n",
       "    }\n",
       "</style>\n",
       "<table border=\"1\" class=\"dataframe\">\n",
       "  <thead>\n",
       "    <tr style=\"text-align: right;\">\n",
       "      <th></th>\n",
       "      <th>Open</th>\n",
       "      <th>High</th>\n",
       "      <th>Low</th>\n",
       "      <th>Close</th>\n",
       "    </tr>\n",
       "    <tr>\n",
       "      <th>Date</th>\n",
       "      <th></th>\n",
       "      <th></th>\n",
       "      <th></th>\n",
       "      <th></th>\n",
       "    </tr>\n",
       "  </thead>\n",
       "  <tbody>\n",
       "    <tr>\n",
       "      <th>2004-12-31</th>\n",
       "      <td>99.714714</td>\n",
       "      <td>100.900902</td>\n",
       "      <td>96.766769</td>\n",
       "      <td>98.898895</td>\n",
       "    </tr>\n",
       "    <tr>\n",
       "      <th>2005-12-31</th>\n",
       "      <td>216.991989</td>\n",
       "      <td>223.328323</td>\n",
       "      <td>214.604599</td>\n",
       "      <td>216.236237</td>\n",
       "    </tr>\n",
       "    <tr>\n",
       "      <th>2006-12-31</th>\n",
       "      <td>255.740738</td>\n",
       "      <td>256.756744</td>\n",
       "      <td>253.143143</td>\n",
       "      <td>255.080078</td>\n",
       "    </tr>\n",
       "    <tr>\n",
       "      <th>2007-12-31</th>\n",
       "      <td>370.935944</td>\n",
       "      <td>373.993988</td>\n",
       "      <td>362.862854</td>\n",
       "      <td>371.266266</td>\n",
       "    </tr>\n",
       "    <tr>\n",
       "      <th>2008-12-31</th>\n",
       "      <td>346.781769</td>\n",
       "      <td>349.034027</td>\n",
       "      <td>339.204193</td>\n",
       "      <td>343.007996</td>\n",
       "    </tr>\n",
       "    <tr>\n",
       "      <th>2009-12-31</th>\n",
       "      <td>312.687683</td>\n",
       "      <td>313.308319</td>\n",
       "      <td>310.300293</td>\n",
       "      <td>311.746735</td>\n",
       "    </tr>\n",
       "    <tr>\n",
       "      <th>2010-12-31</th>\n",
       "      <td>315.315308</td>\n",
       "      <td>315.740753</td>\n",
       "      <td>312.432434</td>\n",
       "      <td>313.698700</td>\n",
       "    </tr>\n",
       "    <tr>\n",
       "      <th>2011-12-31</th>\n",
       "      <td>321.696686</td>\n",
       "      <td>323.703705</td>\n",
       "      <td>321.331329</td>\n",
       "      <td>323.273285</td>\n",
       "    </tr>\n",
       "    <tr>\n",
       "      <th>2012-12-31</th>\n",
       "      <td>385.740753</td>\n",
       "      <td>387.577576</td>\n",
       "      <td>382.887878</td>\n",
       "      <td>384.409424</td>\n",
       "    </tr>\n",
       "    <tr>\n",
       "      <th>2013-12-31</th>\n",
       "      <td>560.730713</td>\n",
       "      <td>561.061035</td>\n",
       "      <td>557.027039</td>\n",
       "      <td>560.915894</td>\n",
       "    </tr>\n",
       "    <tr>\n",
       "      <th>2014-12-31</th>\n",
       "      <td>614.014038</td>\n",
       "      <td>615.055054</td>\n",
       "      <td>609.909912</td>\n",
       "      <td>610.695679</td>\n",
       "    </tr>\n",
       "    <tr>\n",
       "      <th>2015-12-31</th>\n",
       "      <td>793.960022</td>\n",
       "      <td>798.690002</td>\n",
       "      <td>787.200012</td>\n",
       "      <td>793.960022</td>\n",
       "    </tr>\n",
       "    <tr>\n",
       "      <th>2016-12-31</th>\n",
       "      <td>838.500000</td>\n",
       "      <td>839.000000</td>\n",
       "      <td>829.039978</td>\n",
       "      <td>835.739990</td>\n",
       "    </tr>\n",
       "    <tr>\n",
       "      <th>2017-12-31</th>\n",
       "      <td>1083.020020</td>\n",
       "      <td>1086.489990</td>\n",
       "      <td>1072.270020</td>\n",
       "      <td>1085.089966</td>\n",
       "    </tr>\n",
       "    <tr>\n",
       "      <th>2018-12-31</th>\n",
       "      <td>1289.119995</td>\n",
       "      <td>1291.439941</td>\n",
       "      <td>1263.000000</td>\n",
       "      <td>1285.500000</td>\n",
       "    </tr>\n",
       "    <tr>\n",
       "      <th>2019-12-31</th>\n",
       "      <td>1364.000000</td>\n",
       "      <td>1367.050049</td>\n",
       "      <td>1353.000000</td>\n",
       "      <td>1362.469971</td>\n",
       "    </tr>\n",
       "    <tr>\n",
       "      <th>2020-12-31</th>\n",
       "      <td>1820.540039</td>\n",
       "      <td>1843.829956</td>\n",
       "      <td>1817.000000</td>\n",
       "      <td>1824.969971</td>\n",
       "    </tr>\n",
       "    <tr>\n",
       "      <th>2021-12-31</th>\n",
       "      <td>2904.320068</td>\n",
       "      <td>2925.080078</td>\n",
       "      <td>2897.669922</td>\n",
       "      <td>2904.310059</td>\n",
       "    </tr>\n",
       "  </tbody>\n",
       "</table>\n",
       "</div>"
      ],
      "text/plain": [
       "                   Open         High          Low        Close\n",
       "Date                                                          \n",
       "2004-12-31    99.714714   100.900902    96.766769    98.898895\n",
       "2005-12-31   216.991989   223.328323   214.604599   216.236237\n",
       "2006-12-31   255.740738   256.756744   253.143143   255.080078\n",
       "2007-12-31   370.935944   373.993988   362.862854   371.266266\n",
       "2008-12-31   346.781769   349.034027   339.204193   343.007996\n",
       "2009-12-31   312.687683   313.308319   310.300293   311.746735\n",
       "2010-12-31   315.315308   315.740753   312.432434   313.698700\n",
       "2011-12-31   321.696686   323.703705   321.331329   323.273285\n",
       "2012-12-31   385.740753   387.577576   382.887878   384.409424\n",
       "2013-12-31   560.730713   561.061035   557.027039   560.915894\n",
       "2014-12-31   614.014038   615.055054   609.909912   610.695679\n",
       "2015-12-31   793.960022   798.690002   787.200012   793.960022\n",
       "2016-12-31   838.500000   839.000000   829.039978   835.739990\n",
       "2017-12-31  1083.020020  1086.489990  1072.270020  1085.089966\n",
       "2018-12-31  1289.119995  1291.439941  1263.000000  1285.500000\n",
       "2019-12-31  1364.000000  1367.050049  1353.000000  1362.469971\n",
       "2020-12-31  1820.540039  1843.829956  1817.000000  1824.969971\n",
       "2021-12-31  2904.320068  2925.080078  2897.669922  2904.310059"
      ]
     },
     "execution_count": 24,
     "metadata": {},
     "output_type": "execute_result"
    }
   ],
   "source": [
    "cols = ['Open', 'High', 'Low', 'Close']\n",
    "\n",
    "df[cols].resample(rule='Y').max()"
   ]
  }
 ],
 "metadata": {
  "kernelspec": {
   "display_name": "Python 3 (ipykernel)",
   "language": "python",
   "name": "python3"
  },
  "language_info": {
   "codemirror_mode": {
    "name": "ipython",
    "version": 3
   },
   "file_extension": ".py",
   "mimetype": "text/x-python",
   "name": "python",
   "nbconvert_exporter": "python",
   "pygments_lexer": "ipython3",
   "version": "3.9.13"
  }
 },
 "nbformat": 4,
 "nbformat_minor": 4
}
